{
 "cells": [
  {
   "cell_type": "code",
   "execution_count": 13,
   "metadata": {},
   "outputs": [],
   "source": [
    "import requests\n",
    "\n",
    "r = requests.get(url=\"https://myanimelist.net/anime/50602/Spy_x_Family_Part_2\")"
   ]
  },
  {
   "cell_type": "code",
   "execution_count": null,
   "metadata": {},
   "outputs": [],
   "source": [
    "# pip install selectolax\n",
    "# "
   ]
  },
  {
   "cell_type": "code",
   "execution_count": 14,
   "metadata": {},
   "outputs": [],
   "source": [
    "from bs4 import BeautifulSoup\n",
    "\n",
    "soup = BeautifulSoup(r.content, \"html.parser\")"
   ]
  },
  {
   "cell_type": "code",
   "execution_count": 3,
   "metadata": {},
   "outputs": [],
   "source": [
    "with open(\"index.html\", mode=\"w\", encoding=\"utf-8\") as f:\n",
    "    f.write(str(soup))"
   ]
  },
  {
   "cell_type": "code",
   "execution_count": 4,
   "metadata": {},
   "outputs": [],
   "source": [
    "name = soup.select_one(\"h1.title-name\").text\n",
    "score_div = soup.find(\"div\", attrs={\"data-title\":\"score\"})\n",
    "score = score_div.select_one(\"div.score-label\").text\n",
    "score_users = score_div.get(\"data-user\").replace(\"users\",\"\").strip()\n",
    "ranked = soup.select_one(\"span.numbers.ranked strong\").text.replace(\"#\", \"\")\n",
    "popularity = soup.select_one(\"span.numbers.popularity strong\").text.replace(\"#\", \"\")\n",
    "members = soup.select_one(\"span.numbers.members strong\").text.replace(\"#\", \"\")\n",
    "description = soup.select_one('p[itemprop=\"description\"]').text\n",
    "image = soup.select_one(\"img[itemprop='image']\").get(\"data-src\")"
   ]
  },
  {
   "cell_type": "code",
   "execution_count": 5,
   "metadata": {},
   "outputs": [],
   "source": [
    "def souper(url: str):\n",
    "    r = requests.get(url)\n",
    "    return BeautifulSoup(r.content, \"html.parser\")"
   ]
  },
  {
   "cell_type": "code",
   "execution_count": 6,
   "metadata": {},
   "outputs": [
    {
     "data": {
      "text/plain": [
       "'https://cdn.myanimelist.net/images/anime/1111/127508.jpg'"
      ]
     },
     "execution_count": 6,
     "metadata": {},
     "output_type": "execute_result"
    }
   ],
   "source": [
    "leftside = soup.select(\"div.leftside\")\n",
    "image"
   ]
  },
  {
   "cell_type": "markdown",
   "metadata": {},
   "source": [
    "# Characters "
   ]
  },
  {
   "cell_type": "code",
   "execution_count": 7,
   "metadata": {},
   "outputs": [],
   "source": [
    "url = \"https://myanimelist.net/anime/50602/Spy_x_Family_Part_2\"\n",
    "\n",
    "characters_url = f\"{url}/characters\"\n",
    "\n",
    "soup = souper(url=characters_url)"
   ]
  },
  {
   "cell_type": "code",
   "execution_count": 8,
   "metadata": {},
   "outputs": [],
   "source": [
    "box = soup.select_one(selector=\"div.rightside.js-scrollfix-bottom-rel\")\n",
    "\n",
    "characters = []\n",
    "characters_table = box.select(\"table.js-anime-character-table\")\n",
    "\n",
    "for table in characters_table:\n",
    "    character_name = table.select_one(\"h3\").text\n",
    "    character_link = table.select_one(\"a\").get(\"href\")\n",
    "    # character_image = table.select_one(\"img\").get(\"data-src\")\n",
    "    favorites = table.select_one(\"div.js-anime-character-favorites\").text.strip()\n",
    "    trs = table.select(\"tr.js-anime-character-va-lang\")\n",
    "    voice_actors = []\n",
    "    for tr in trs:\n",
    "        actor = tr.select_one(\"a\").text.strip()\n",
    "        actor_link = tr.select_one(\"a\").get(\"href\")\n",
    "        language = tr.select_one(\"div.js-anime-character-language\").text.strip()\n",
    "        # image = tr.select_one(\"img\").get(\"data-src\")\n",
    "        voice_actors.append({\n",
    "            \"name\": actor,\n",
    "            \"link\": actor_link,\n",
    "            \"language\": language})\n",
    "    \n",
    "    characters.append({\n",
    "        \"name\": character_name,\n",
    "        \"link\": character_link,\n",
    "        \"favorites\": favorites,\n",
    "        \"voice_actors\": voice_actors,})\n",
    "        "
   ]
  },
  {
   "cell_type": "code",
   "execution_count": 12,
   "metadata": {},
   "outputs": [],
   "source": [
    "import json\n",
    "\n",
    "\n",
    "with open(\"a.json\", \"w\") as output:\n",
    "    output.write(json.dumps(characters, indent=4, sort_keys=True))"
   ]
  },
  {
   "cell_type": "markdown",
   "metadata": {},
   "source": [
    "# Staffs"
   ]
  },
  {
   "cell_type": "code",
   "execution_count": 10,
   "metadata": {},
   "outputs": [],
   "source": [
    "box = soup.select_one(selector=\"div.rightside.js-scrollfix-bottom-rel\")\n",
    "\n",
    "html = str(soup)\n",
    "\n",
    "new_html = html[html.find('<a name=\"staff\"></a>'):]\n",
    "\n",
    "soup = BeautifulSoup(new_html, 'html.parser')\n"
   ]
  },
  {
   "cell_type": "code",
   "execution_count": 11,
   "metadata": {},
   "outputs": [],
   "source": [
    "tables = soup.select(\"table div.picSurround\")\n",
    "staffs = []\n",
    "for table in tables:\n",
    "    name = table.select_one(\"a\").select_one(\"img\").get(\"alt\")\n",
    "    link = table.select_one(\"a\").get(\"href\")\n",
    "    staffs.append({\n",
    "        \"name\": name,\n",
    "        \"link\": link,\n",
    "    })"
   ]
  },
  {
   "cell_type": "markdown",
   "metadata": {},
   "source": [
    "## Information"
   ]
  },
  {
   "cell_type": "code",
   "execution_count": 59,
   "metadata": {},
   "outputs": [
    {
     "name": "stdout",
     "output_type": "stream",
     "text": [
      "PG-13 - Teens 13 or older\n",
      "2787\n"
     ]
    }
   ],
   "source": [
    "# sourcery skip: avoid-builtin-shadow\n",
    "leftside = soup.select_one(\"div.leftside\")\n",
    "\n",
    "divs = leftside.select(\"div.spaceit_pad\")\n",
    "for div in divs:\n",
    "    if \"Type:\" in div.select_one(\"span\").get_text():\n",
    "        type = div.select_one(\"a\").get_text().strip()\n",
    "    elif \"Episodes:\" in div.select_one(\"span\").get_text():\n",
    "        episodes = div.contents[2].strip()\n",
    "    elif \"Status:\" in div.select_one(\"span\").get_text():\n",
    "        status = div.contents[2].strip()\n",
    "    elif \"Aired:\" in div.select_one(\"span\").get_text():\n",
    "        aired = div.contents[2].strip()\n",
    "    elif \"Premiered:\" in div.select_one(\"span\").get_text(): \n",
    "        premiered = div.select_one(\"a\").get_text().strip()\n",
    "    elif \"Broadcast:\" in div.select_one(\"span\").get_text():\n",
    "        broadcast = div.contents[2].strip()\n",
    "    elif \"Producers:\" in div.select_one(\"span\").get_text():\n",
    "        producers = [{\"name\":i.get_text(),\n",
    "        \"link\":i.get(\"href\")\n",
    "        } for i in div.select(\"a\")]\n",
    "    elif \"Licensors:\" in div.select_one(\"span\").get_text():\n",
    "        # later we need to check if there are Producers\n",
    "        pass\n",
    "    elif \"Studios:\" in div.select_one(\"span\").get_text():\n",
    "        studios = [{\"name\":i.get_text(),\n",
    "        \"link\":i.get(\"href\")\n",
    "        } for i in div.select(\"a\")]\n",
    "    elif \"Source\" in div.select_one(\"span\").get_text():\n",
    "        source = div.contents[2].strip()\n",
    "    elif \"Genres\" in div.select_one(\"span\").get_text():\n",
    "        genres = [{\"name\":i.get_text(),\n",
    "        \"link\":i.get(\"href\")\n",
    "        } for i in div.select(\"a\")]\n",
    "    elif \"Theme\" in div.select_one(\"span\").get_text():\n",
    "        theme = [{\"name\":i.get_text(),\n",
    "        \"link\":i.get(\"href\")\n",
    "        } for i in div.select(\"a\")]\n",
    "    elif \"Demographic\" in div.select_one(\"span\").get_text():\n",
    "        demographic = [{\"name\":i.get_text(),\n",
    "        \"link\":i.get(\"href\")\n",
    "        } for i in div.select(\"a\")]\n",
    "    elif \"Duration\" in div.select_one(\"span\").get_text():\n",
    "        duration = status = div.contents[2].strip()\n",
    "    elif \"Rating\" in div.select_one(\"span\").get_text():\n",
    "        rating = status = div.contents[2].strip()\n",
    "        print(rating)\n",
    "    # \n",
    "    elif \"Favorites:\"   in div.select_one(\"span\").get_text():\n",
    "        favorites = int(div.contents[2].strip().replace(\",\",\"\"))\n",
    "        print(favorites)\n",
    "\n",
    "    # alternate titles later"
   ]
  }
 ],
 "metadata": {
  "kernelspec": {
   "display_name": "Python 3",
   "language": "python",
   "name": "python3"
  },
  "language_info": {
   "codemirror_mode": {
    "name": "ipython",
    "version": 3
   },
   "file_extension": ".py",
   "mimetype": "text/x-python",
   "name": "python",
   "nbconvert_exporter": "python",
   "pygments_lexer": "ipython3",
   "version": "3.11.1"
  },
  "orig_nbformat": 4,
  "vscode": {
   "interpreter": {
    "hash": "985e62b2648ae78a0d67fc79b6d06473b5701219ee898c11594e2d07d7ea7849"
   }
  }
 },
 "nbformat": 4,
 "nbformat_minor": 2
}
